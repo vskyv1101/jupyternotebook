{
 "cells": [
  {
   "cell_type": "markdown",
   "id": "9c1a181d",
   "metadata": {},
   "source": [
    "<h1>작업형 문제1 답안</h1>"
   ]
  },
  {
   "cell_type": "code",
   "execution_count": 66,
   "id": "69371b07",
   "metadata": {},
   "outputs": [
    {
     "name": "stdout",
     "output_type": "stream",
     "text": [
      "<유임 승차 비율이 가장 높은 역 정보>\n",
      "역 이름: 홍대입구\n",
      "호선명: 공항철도 1호선\n",
      "유임 승차 비율 = 유임승차 인원수 / (유임승차 인원수 + 무임승차 인원수)\n",
      "0.95 = 334381 / ( 334381 + 17164 )\n"
     ]
    }
   ],
   "source": [
    "import csv\n",
    "\n",
    "f = open('subwayfee_08.csv')\n",
    "data = csv.reader(f)\n",
    "\n",
    "header = next(data)\n",
    "\n",
    "rate = 0\n",
    "max_rate = 0\n",
    "\n",
    "station = []\n",
    "for row in data:\n",
    "    for i in range(4, 8):\n",
    "        row[i] = int(row[i].replace(',', ''))\n",
    "  \n",
    "    if (row[6] != 0) and (row[4] + row[6] > 100000):\n",
    "        rate = row[4] / (row[4] + row[6])\n",
    "        if rate > max_rate:\n",
    "            max_rate = rate\n",
    "            station = row\n",
    "            \n",
    "f.close()\n",
    "print('<유임 승차 비율이 가장 높은 역 정보>')\n",
    "print('역 이름:', station[3])\n",
    "print('호선명:', station[1])\n",
    "print('유임 승차 비율 = 유임승차 인원수 / (유임승차 인원수 + 무임승차 인원수)')\n",
    "print(round(max_rate, 2), '=', station[4], '/ (', station[4], '+', station[6], ')')"
   ]
  },
  {
   "cell_type": "markdown",
   "id": "0a426357",
   "metadata": {},
   "source": [
    "<h1>작업형 문제2 답안</h1>"
   ]
  },
  {
   "cell_type": "code",
   "execution_count": 70,
   "id": "96b10d9c",
   "metadata": {},
   "outputs": [
    {
     "name": "stdout",
     "output_type": "stream",
     "text": [
      "(유임승차) 강남 2호선: 2073808 명\n",
      "(유임하차) 강남 2호선: 2018576 명\n",
      "(무임승차) 종로3가 1호선: 277589 명\n",
      "(무임하차) 제기동 1호선: 282283 명\n"
     ]
    }
   ],
   "source": [
    "import csv\n",
    "\n",
    "f = open('subwayfee_08.csv')\n",
    "data = csv.reader(f)\n",
    "\n",
    "header = next(data)\n",
    "\n",
    "max_people = [0] * 4\n",
    "max_station = [0] * 4\n",
    "label = ['(유임승차)', '(유임하차)', '(무임승차)', '(무임하차)']\n",
    "\n",
    "for row in data:\n",
    "    for i in range(4, 8):\n",
    "        row[i] = int(row[i].replace(',', ''))\n",
    "  \n",
    "        if row[i] > max_people[i-4]:\n",
    "            max_people[i-4] = row[i]\n",
    "            max_station[i-4] = row[3] + ' ' + row[1]\n",
    "\n",
    "f.close()\n",
    "for i in range(4):\n",
    "    print(label[i] + ' ' + max_station[i] + ':', max_people[i], '명')"
   ]
  },
  {
   "cell_type": "markdown",
   "id": "03e2d9db",
   "metadata": {},
   "source": [
    "<h1>작업형 문제3 답안</h1>"
   ]
  },
  {
   "cell_type": "code",
   "execution_count": 1,
   "id": "096449bf",
   "metadata": {},
   "outputs": [
    {
     "name": "stdout",
     "output_type": "stream",
     "text": [
      "찾고 싶은 지하철역의 이름을 입력하세요: 신도림\n",
      "찾고 싶은 지하철역의 호선명을 입력하세요: 2호선\n"
     ]
    },
    {
     "data": {
      "image/png": "[encoded data removed]",
      "text/plain": [
       "<Figure size 432x288 with 1 Axes>"
      ]
     },
     "metadata": {},
     "output_type": "display_data"
    }
   ],
   "source": [
    "import csv\n",
    "import matplotlib.pyplot as plt\n",
    "\n",
    "f = open('subwayfee_08.csv')\n",
    "data = csv.reader(f)\n",
    "\n",
    "header = next(data)\n",
    "\n",
    "name = input('찾고 싶은 지하철역의 이름을 입력하세요: ')\n",
    "line_num = input('찾고 싶은 지하철역의 호선명을 입력하세요: ')\n",
    "\n",
    "result = []\n",
    "for row in data:\n",
    "    if (name in row[3]) and (line_num in row[1]):\n",
    "        for i in range(4, 8):\n",
    "            result.append(int(row[i].replace(',', '')))\n",
    "        \n",
    "        break\n",
    "\n",
    "f.close()\n",
    "\n",
    "label = ['유임승차', '유임하차', '무임승차', '무임하차']\n",
    "color = ['skyblue', 'palegreen', 'pink', 'beige']\n",
    "\n",
    "plt.rc('font', family='Malgun Gothic')\n",
    "plt.title(name + ' ' + line_num)\n",
    "plt.pie(result, labels=label, colors=color, autopct='%.2f%%')\n",
    "plt.savefig(row[3] + ' ' + row[1] + '.png')\n",
    "plt.show()"
   ]
  },
  {
   "cell_type": "markdown",
   "id": "4cb0f07b",
   "metadata": {},
   "source": [
    "<h1>작업형 문제4 답안</h1>"
   ]
  },
  {
   "cell_type": "code",
   "execution_count": 2,
   "id": "f4ae1037",
   "metadata": {},
   "outputs": [
    {
     "data": {
      "image/png": "[encoded data removed]",
      "text/plain": [
       "<Figure size 720x216 with 1 Axes>"
      ]
     },
     "metadata": {
      "needs_background": "light"
     },
     "output_type": "display_data"
    }
   ],
   "source": [
    "import csv\n",
    "import matplotlib.pyplot as plt\n",
    "\n",
    "f = open('subwaytime_08.csv')\n",
    "data = csv.reader(f)\n",
    "\n",
    "header = next(data)\n",
    "next(data)\n",
    "\n",
    "result = []\n",
    "for row in data:\n",
    "    for i in range(4, 52):\n",
    "        row[i] = row[i].replace(',', '')\n",
    "    \n",
    "    row[4:] = map(int, row[4:])\n",
    "    result.append(sum(row[10:15:2]))\n",
    "\n",
    "f.close()\n",
    "\n",
    "result.sort()\n",
    "\n",
    "plt.rc('font', family='Malgun Gothic')\n",
    "plt.figure(figsize=(10, 3))\n",
    "plt.bar(range(len(result)), result)\n",
    "plt.xlabel('역')\n",
    "plt.ylabel('승차 인원수')\n",
    "plt.grid(True)\n",
    "plt.show()"
   ]
  },
  {
   "cell_type": "markdown",
   "id": "400b3dd4",
   "metadata": {},
   "source": [
    "<h1>작업형 문제5 답안</h1>"
   ]
  },
  {
   "cell_type": "code",
   "execution_count": 3,
   "id": "3881b4e6",
   "metadata": {},
   "outputs": [
    {
     "name": "stdout",
     "output_type": "stream",
     "text": [
      "승차 인원이 최대인 역: 신림(2호선), 624717 명\n",
      "하차 인원이 최대인 역: 역삼(2호선), 802638 명\n"
     ]
    }
   ],
   "source": [
    "import csv\n",
    "\n",
    "f = open('subwaytime_08.csv')\n",
    "data = csv.reader(f)\n",
    "\n",
    "header = next(data)\n",
    "next(data)\n",
    "\n",
    "max_people = [0, 0]\n",
    "max_station = ['', '']\n",
    "for row in data:\n",
    "    for i in range(4, 52):\n",
    "        row[i] = row[i].replace(',', '')\n",
    "    \n",
    "    row[4:] = map(int, row[4:])\n",
    "    if sum(row[10:15:2]) > max_people[0]:\n",
    "        max_people[0] = sum(row[10:15:2])\n",
    "        max_station[0] = row[3] + '(' + row[1] + ')'\n",
    "    if sum(row[11:16:2]) > max_people[1]:\n",
    "        max_people[1] = sum(row[11:16:2])\n",
    "        max_station[1] = row[3] + '(' + row[1] + ')'\n",
    "\n",
    "f.close()\n",
    "\n",
    "print('승차 인원이 최대인 역:', max_station[0] + ',', max_people[0], '명')\n",
    "print('하차 인원이 최대인 역:', max_station[1] + ',', max_people[1], '명')"
   ]
  },
  {
   "cell_type": "markdown",
   "id": "fbbee6d2",
   "metadata": {},
   "source": [
    "<h1>보너스 문제1 답안</h1>"
   ]
  },
  {
   "cell_type": "code",
   "execution_count": 21,
   "id": "11629a8f",
   "metadata": {
    "scrolled": true
   },
   "outputs": [
    {
     "name": "stdout",
     "output_type": "stream",
     "text": [
      "몇 시의 승차 인원이 가장 많은 역이 궁금하세요?: 5\n",
      "신림(2호선): 38345 명\n"
     ]
    }
   ],
   "source": [
    "import csv\n",
    "\n",
    "f = open('subwaytime_08.csv', encoding='cp949')\n",
    "data = csv.reader(f)\n",
    "\n",
    "header = next(data)\n",
    "next(data)\n",
    "\n",
    "max_people = 0\n",
    "max_station = ''\n",
    "t = int(input('몇 시의 승차 인원이 가장 많은 역이 궁금하세요?: '))\n",
    "\n",
    "for row in data:\n",
    "    for i in range(4, 52):\n",
    "        row[i] = row[i].replace(',', '')\n",
    "    \n",
    "    row[4:] = map(int, row[4:])\n",
    "    people = row[2 * t - 4]\n",
    "    if people > max_people:\n",
    "        max_people = people\n",
    "        max_station = row[3] + '(' + row[1] + ')'\n",
    "    \n",
    "f.close()\n",
    "\n",
    "print(max_station + ':', max_people, '명')"
   ]
  },
  {
   "cell_type": "markdown",
   "id": "65a550ba",
   "metadata": {},
   "source": [
    "<h1>보너스 문제2 답안</h1>"
   ]
  },
  {
   "cell_type": "code",
   "execution_count": 27,
   "id": "c37f0244",
   "metadata": {},
   "outputs": [
    {
     "data": {
      "image/png": "[encoded data removed]",
      "text/plain": [
       "<Figure size 432x288 with 1 Axes>"
      ]
     },
     "metadata": {
      "needs_background": "light"
     },
     "output_type": "display_data"
    }
   ],
   "source": [
    "import csv\n",
    "import matplotlib.pyplot as plt\n",
    "\n",
    "f = open('subwaytime_08.csv')\n",
    "data = csv.reader(f)\n",
    "\n",
    "header = next(data)\n",
    "next(data)\n",
    "\n",
    "s_in = [0] * 24      # 승차 인원을 저장할 리스트 초기화\n",
    "s_out = [0] * 24     # 하차 인원을 저장할 리스트 초기화\n",
    "\n",
    "for row in data:\n",
    "    for i in range(4, 52):\n",
    "        row[i] = row[i].replace(',', '')\n",
    "        \n",
    "    row[4:] = map(int, row[4:])\n",
    "    for i in range(24):\n",
    "        s_in[i] = s_in[i] + row[2 * i + 4]\n",
    "        s_out[i] = s_out[i] + row[2 * i + 5]\n",
    "\n",
    "f.close()\n",
    "\n",
    "plt.rc('font', family='Malgun Gothic')\n",
    "plt.title('지하철 시간대별 승하차 인원 추이')\n",
    "plt.plot(s_in, label='승차')\n",
    "plt.plot(s_out, label='하차')\n",
    "plt.legend()\n",
    "plt.grid(True)\n",
    "plt.xticks(range(24), range(4, 28))\n",
    "plt.show()"
   ]
  }
 ],
 "metadata": {
  "kernelspec": {
   "display_name": "Python 3 (ipykernel)",
   "language": "python",
   "name": "python3"
  },
  "language_info": {
   "codemirror_mode": {
    "name": "ipython",
    "version": 3
   },
   "file_extension": ".py",
   "mimetype": "text/x-python",
   "name": "python",
   "nbconvert_exporter": "python",
   "pygments_lexer": "ipython3",
   "version": "3.9.7"
  }
 },
 "nbformat": 4,
 "nbformat_minor": 5
}
